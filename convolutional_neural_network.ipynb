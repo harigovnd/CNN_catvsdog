{
  "cells": [
    {
      "cell_type": "markdown",
      "metadata": {
        "colab_type": "text",
        "id": "3DR-eO17geWu"
      },
      "source": [
        "# Convolutional Neural Network"
      ]
    },
    {
      "cell_type": "markdown",
      "metadata": {
        "colab_type": "text",
        "id": "EMefrVPCg-60"
      },
      "source": [
        "### Importing the libraries"
      ]
    },
    {
      "cell_type": "code",
      "execution_count": 1,
      "metadata": {
        "colab": {},
        "colab_type": "code",
        "id": "sCV30xyVhFbE"
      },
      "outputs": [],
      "source": [
        "import tensorflow as tf\n",
        "from keras.preprocessing.image import ImageDataGenerator"
      ]
    },
    {
      "cell_type": "code",
      "execution_count": 2,
      "metadata": {
        "colab": {},
        "colab_type": "code",
        "id": "FIleuCAjoFD8"
      },
      "outputs": [
        {
          "data": {
            "text/plain": [
              "'2.8.0'"
            ]
          },
          "execution_count": 2,
          "metadata": {},
          "output_type": "execute_result"
        }
      ],
      "source": [
        "tf.__version__"
      ]
    },
    {
      "cell_type": "markdown",
      "metadata": {
        "colab_type": "text",
        "id": "oxQxCBWyoGPE"
      },
      "source": [
        "## Part 1 - Data Preprocessing"
      ]
    },
    {
      "cell_type": "markdown",
      "metadata": {
        "colab_type": "text",
        "id": "MvE-heJNo3GG"
      },
      "source": [
        "### Preprocessing the Training set"
      ]
    },
    {
      "cell_type": "code",
      "execution_count": 3,
      "metadata": {
        "colab": {},
        "colab_type": "code",
        "id": "0koUcJMJpEBD"
      },
      "outputs": [
        {
          "name": "stdout",
          "output_type": "stream",
          "text": [
            "Found 8000 images belonging to 2 classes.\n"
          ]
        }
      ],
      "source": [
        "train_datagen = ImageDataGenerator(rescale = 1./255,\n",
        "                                   shear_range = 0.2,\n",
        "                                   zoom_range = 0.2,\n",
        "                                   horizontal_flip = True)\n",
        "training_set = train_datagen.flow_from_directory('dataset/training_set',\n",
        "                                                 target_size = (64, 64),\n",
        "                                                 batch_size = 32,\n",
        "                                                 class_mode = 'binary')"
      ]
    },
    {
      "cell_type": "markdown",
      "metadata": {
        "colab_type": "text",
        "id": "mrCMmGw9pHys"
      },
      "source": [
        "### Preprocessing the Test set"
      ]
    },
    {
      "cell_type": "code",
      "execution_count": 4,
      "metadata": {
        "colab": {},
        "colab_type": "code",
        "id": "SH4WzfOhpKc3"
      },
      "outputs": [
        {
          "name": "stdout",
          "output_type": "stream",
          "text": [
            "Found 2000 images belonging to 2 classes.\n"
          ]
        }
      ],
      "source": [
        "test_datagen = ImageDataGenerator(rescale = 1./255)\n",
        "test_set = test_datagen.flow_from_directory('dataset/test_set',\n",
        "                                            target_size = (64, 64),\n",
        "                                            batch_size = 32,\n",
        "                                            class_mode = 'binary')"
      ]
    },
    {
      "cell_type": "markdown",
      "metadata": {
        "colab_type": "text",
        "id": "af8O4l90gk7B"
      },
      "source": [
        "## Part 2 - Building the CNN"
      ]
    },
    {
      "cell_type": "markdown",
      "metadata": {
        "colab_type": "text",
        "id": "ces1gXY2lmoX"
      },
      "source": [
        "### Initialising the CNN"
      ]
    },
    {
      "cell_type": "code",
      "execution_count": 5,
      "metadata": {
        "colab": {},
        "colab_type": "code",
        "id": "SAUt4UMPlhLS"
      },
      "outputs": [],
      "source": [
        "cnn = tf.keras.models.Sequential()"
      ]
    },
    {
      "cell_type": "markdown",
      "metadata": {
        "colab_type": "text",
        "id": "u5YJj_XMl5LF"
      },
      "source": [
        "### Step 1 - Convolution"
      ]
    },
    {
      "cell_type": "code",
      "execution_count": 6,
      "metadata": {
        "colab": {},
        "colab_type": "code",
        "id": "XPzPrMckl-hV"
      },
      "outputs": [],
      "source": [
        "cnn.add(tf.keras.layers.Conv2D(filters=32, kernel_size=3, activation='relu', input_shape=[64, 64, 3]))"
      ]
    },
    {
      "cell_type": "markdown",
      "metadata": {
        "colab_type": "text",
        "id": "tf87FpvxmNOJ"
      },
      "source": [
        "### Step 2 - Pooling"
      ]
    },
    {
      "cell_type": "code",
      "execution_count": 7,
      "metadata": {
        "colab": {},
        "colab_type": "code",
        "id": "ncpqPl69mOac"
      },
      "outputs": [],
      "source": [
        "cnn.add(tf.keras.layers.MaxPool2D(pool_size=2, strides=2))"
      ]
    },
    {
      "cell_type": "markdown",
      "metadata": {
        "colab_type": "text",
        "id": "xaTOgD8rm4mU"
      },
      "source": [
        "### Adding a second convolutional layer"
      ]
    },
    {
      "cell_type": "code",
      "execution_count": 8,
      "metadata": {
        "colab": {},
        "colab_type": "code",
        "id": "i_-FZjn_m8gk"
      },
      "outputs": [],
      "source": [
        "cnn.add(tf.keras.layers.Conv2D(filters=32, kernel_size=3, activation='relu'))\n",
        "cnn.add(tf.keras.layers.MaxPool2D(pool_size=2, strides=2))"
      ]
    },
    {
      "cell_type": "markdown",
      "metadata": {
        "colab_type": "text",
        "id": "tmiEuvTunKfk"
      },
      "source": [
        "### Step 3 - Flattening"
      ]
    },
    {
      "cell_type": "code",
      "execution_count": 9,
      "metadata": {
        "colab": {},
        "colab_type": "code",
        "id": "6AZeOGCvnNZn"
      },
      "outputs": [],
      "source": [
        "cnn.add(tf.keras.layers.Flatten())"
      ]
    },
    {
      "cell_type": "markdown",
      "metadata": {
        "colab_type": "text",
        "id": "dAoSECOm203v"
      },
      "source": [
        "### Step 4 - Full Connection"
      ]
    },
    {
      "cell_type": "code",
      "execution_count": 10,
      "metadata": {
        "colab": {},
        "colab_type": "code",
        "id": "8GtmUlLd26Nq"
      },
      "outputs": [],
      "source": [
        "cnn.add(tf.keras.layers.Dense(units=128, activation='relu'))"
      ]
    },
    {
      "cell_type": "markdown",
      "metadata": {
        "colab_type": "text",
        "id": "yTldFvbX28Na"
      },
      "source": [
        "### Step 5 - Output Layer"
      ]
    },
    {
      "cell_type": "code",
      "execution_count": 11,
      "metadata": {
        "colab": {},
        "colab_type": "code",
        "id": "1p_Zj1Mc3Ko_"
      },
      "outputs": [],
      "source": [
        "cnn.add(tf.keras.layers.Dense(units=1, activation='sigmoid'))"
      ]
    },
    {
      "cell_type": "markdown",
      "metadata": {
        "colab_type": "text",
        "id": "D6XkI90snSDl"
      },
      "source": [
        "## Part 3 - Training the CNN"
      ]
    },
    {
      "cell_type": "markdown",
      "metadata": {
        "colab_type": "text",
        "id": "vfrFQACEnc6i"
      },
      "source": [
        "### Compiling the CNN"
      ]
    },
    {
      "cell_type": "code",
      "execution_count": 12,
      "metadata": {
        "colab": {},
        "colab_type": "code",
        "id": "NALksrNQpUlJ"
      },
      "outputs": [],
      "source": [
        "cnn.compile(optimizer = 'adam', loss = 'binary_crossentropy', metrics = ['accuracy'])"
      ]
    },
    {
      "cell_type": "markdown",
      "metadata": {
        "colab_type": "text",
        "id": "ehS-v3MIpX2h"
      },
      "source": [
        "### Training the CNN on the Training set and evaluating it on the Test set"
      ]
    },
    {
      "cell_type": "code",
      "execution_count": 13,
      "metadata": {
        "colab": {},
        "colab_type": "code",
        "id": "XUj1W4PJptta"
      },
      "outputs": [
        {
          "name": "stdout",
          "output_type": "stream",
          "text": [
            "Epoch 1/25\n",
            "250/250 [==============================] - 169s 665ms/step - loss: 0.6686 - accuracy: 0.5853 - val_loss: 0.6090 - val_accuracy: 0.6890\n",
            "Epoch 2/25\n",
            "250/250 [==============================] - 88s 351ms/step - loss: 0.5926 - accuracy: 0.6826 - val_loss: 0.5428 - val_accuracy: 0.7285\n",
            "Epoch 3/25\n",
            "250/250 [==============================] - 89s 355ms/step - loss: 0.5463 - accuracy: 0.7214 - val_loss: 0.5693 - val_accuracy: 0.7195\n",
            "Epoch 4/25\n",
            "250/250 [==============================] - 89s 358ms/step - loss: 0.5162 - accuracy: 0.7484 - val_loss: 0.5191 - val_accuracy: 0.7550\n",
            "Epoch 5/25\n",
            "250/250 [==============================] - 86s 345ms/step - loss: 0.4924 - accuracy: 0.7657 - val_loss: 0.4717 - val_accuracy: 0.7760\n",
            "Epoch 6/25\n",
            "250/250 [==============================] - 93s 371ms/step - loss: 0.4679 - accuracy: 0.7757 - val_loss: 0.4773 - val_accuracy: 0.7870\n",
            "Epoch 7/25\n",
            "250/250 [==============================] - 84s 336ms/step - loss: 0.4544 - accuracy: 0.7881 - val_loss: 0.5106 - val_accuracy: 0.7585\n",
            "Epoch 8/25\n",
            "250/250 [==============================] - 86s 343ms/step - loss: 0.4459 - accuracy: 0.7916 - val_loss: 0.4719 - val_accuracy: 0.7760\n",
            "Epoch 9/25\n",
            "250/250 [==============================] - 83s 333ms/step - loss: 0.4185 - accuracy: 0.8051 - val_loss: 0.4587 - val_accuracy: 0.8030\n",
            "Epoch 10/25\n",
            "250/250 [==============================] - 85s 339ms/step - loss: 0.4130 - accuracy: 0.8104 - val_loss: 0.4872 - val_accuracy: 0.7855\n",
            "Epoch 11/25\n",
            "250/250 [==============================] - 83s 332ms/step - loss: 0.3946 - accuracy: 0.8142 - val_loss: 0.4514 - val_accuracy: 0.7985\n",
            "Epoch 12/25\n",
            "250/250 [==============================] - 93s 371ms/step - loss: 0.3794 - accuracy: 0.8324 - val_loss: 0.4705 - val_accuracy: 0.7935\n",
            "Epoch 13/25\n",
            "250/250 [==============================] - 86s 342ms/step - loss: 0.3635 - accuracy: 0.8341 - val_loss: 0.4743 - val_accuracy: 0.7975\n",
            "Epoch 14/25\n",
            "250/250 [==============================] - 70s 279ms/step - loss: 0.3546 - accuracy: 0.8428 - val_loss: 0.4719 - val_accuracy: 0.8005\n",
            "Epoch 15/25\n",
            "250/250 [==============================] - 70s 280ms/step - loss: 0.3386 - accuracy: 0.8515 - val_loss: 0.4359 - val_accuracy: 0.8140\n",
            "Epoch 16/25\n",
            "250/250 [==============================] - 76s 304ms/step - loss: 0.3210 - accuracy: 0.8587 - val_loss: 0.4683 - val_accuracy: 0.8005\n",
            "Epoch 17/25\n",
            "250/250 [==============================] - 84s 335ms/step - loss: 0.3123 - accuracy: 0.8680 - val_loss: 0.4668 - val_accuracy: 0.8080\n",
            "Epoch 18/25\n",
            "250/250 [==============================] - 83s 333ms/step - loss: 0.2996 - accuracy: 0.8702 - val_loss: 0.4983 - val_accuracy: 0.8010\n",
            "Epoch 19/25\n",
            "250/250 [==============================] - 113s 450ms/step - loss: 0.2878 - accuracy: 0.8794 - val_loss: 0.4598 - val_accuracy: 0.8150\n",
            "Epoch 20/25\n",
            "250/250 [==============================] - 103s 411ms/step - loss: 0.2677 - accuracy: 0.8861 - val_loss: 0.5004 - val_accuracy: 0.8050\n",
            "Epoch 21/25\n",
            "250/250 [==============================] - 78s 313ms/step - loss: 0.2577 - accuracy: 0.8932 - val_loss: 0.5113 - val_accuracy: 0.8045\n",
            "Epoch 22/25\n",
            "250/250 [==============================] - 75s 299ms/step - loss: 0.2373 - accuracy: 0.9045 - val_loss: 0.6547 - val_accuracy: 0.7695\n",
            "Epoch 23/25\n",
            "250/250 [==============================] - 86s 344ms/step - loss: 0.2313 - accuracy: 0.9085 - val_loss: 0.5616 - val_accuracy: 0.7985\n",
            "Epoch 24/25\n",
            "250/250 [==============================] - 84s 338ms/step - loss: 0.2152 - accuracy: 0.9130 - val_loss: 0.5472 - val_accuracy: 0.8030\n",
            "Epoch 25/25\n",
            "250/250 [==============================] - 86s 345ms/step - loss: 0.2036 - accuracy: 0.9216 - val_loss: 0.5750 - val_accuracy: 0.8075\n"
          ]
        },
        {
          "data": {
            "text/plain": [
              "<keras.callbacks.History at 0x1a7f714c8e0>"
            ]
          },
          "execution_count": 13,
          "metadata": {},
          "output_type": "execute_result"
        }
      ],
      "source": [
        "cnn.fit(x = training_set, validation_data = test_set, epochs = 25)"
      ]
    },
    {
      "cell_type": "markdown",
      "metadata": {
        "colab_type": "text",
        "id": "U3PZasO0006Z"
      },
      "source": [
        "## Part 4 - Making a single prediction"
      ]
    },
    {
      "cell_type": "code",
      "execution_count": 23,
      "metadata": {
        "colab": {},
        "colab_type": "code",
        "id": "gsSiWEJY1BPB"
      },
      "outputs": [],
      "source": [
        "import numpy as np\n",
        "from keras.preprocessing import image\n",
        "test_image = image.load_img('dataset/single_prediction/test2.jpg', target_size = (64, 64))\n",
        "test_image = image.img_to_array(test_image)\n",
        "test_image = np.expand_dims(test_image, axis = 0)\n",
        "result = cnn.predict(test_image/255.0)\n",
        "training_set.class_indices\n",
        "if result[0][0] > 0.5:\n",
        "  prediction = 'dog'\n",
        "else:\n",
        "  prediction = 'cat'"
      ]
    },
    {
      "cell_type": "code",
      "execution_count": 24,
      "metadata": {
        "colab": {},
        "colab_type": "code",
        "id": "ED9KB3I54c1i"
      },
      "outputs": [
        {
          "name": "stdout",
          "output_type": "stream",
          "text": [
            "dog\n"
          ]
        }
      ],
      "source": [
        "print(prediction)"
      ]
    },
    {
      "cell_type": "code",
      "execution_count": 25,
      "metadata": {},
      "outputs": [
        {
          "data": {
            "text/plain": [
              "array([[0.9899773]], dtype=float32)"
            ]
          },
          "execution_count": 25,
          "metadata": {},
          "output_type": "execute_result"
        }
      ],
      "source": [
        "result"
      ]
    },
    {
      "cell_type": "code",
      "execution_count": null,
      "metadata": {},
      "outputs": [],
      "source": []
    }
  ],
  "metadata": {
    "colab": {
      "collapsed_sections": [],
      "name": "convolutional_neural_network.ipynb",
      "provenance": [],
      "toc_visible": true
    },
    "interpreter": {
      "hash": "ad2bdc8ecc057115af97d19610ffacc2b4e99fae6737bb82f5d7fb13d2f2c186"
    },
    "kernelspec": {
      "display_name": "Python 3.9.7 ('base')",
      "language": "python",
      "name": "python3"
    },
    "language_info": {
      "codemirror_mode": {
        "name": "ipython",
        "version": 3
      },
      "file_extension": ".py",
      "mimetype": "text/x-python",
      "name": "python",
      "nbconvert_exporter": "python",
      "pygments_lexer": "ipython3",
      "version": "3.9.7"
    }
  },
  "nbformat": 4,
  "nbformat_minor": 0
}
